{
  "nbformat": 4,
  "nbformat_minor": 0,
  "metadata": {
    "kernelspec": {
      "display_name": "Python 3",
      "language": "python",
      "name": "python3"
    },
    "language_info": {
      "codemirror_mode": {
        "name": "ipython",
        "version": 3
      },
      "file_extension": ".py",
      "mimetype": "text/x-python",
      "name": "python",
      "nbconvert_exporter": "python",
      "pygments_lexer": "ipython3",
      "version": "3.6.4"
    },
    "colab": {
      "name": "Copy of 02-insurance-linear.ipynb",
      "provenance": []
    },
    "widgets": {
      "application/vnd.jupyter.widget-state+json": {
        "1680f4c7b1ef4d0796c26c758b460ff7": {
          "model_module": "@jupyter-widgets/controls",
          "model_name": "HBoxModel",
          "state": {
            "_view_name": "HBoxView",
            "_dom_classes": [],
            "_model_name": "HBoxModel",
            "_view_module": "@jupyter-widgets/controls",
            "_model_module_version": "1.5.0",
            "_view_count": null,
            "_view_module_version": "1.5.0",
            "box_style": "",
            "layout": "IPY_MODEL_f7fa3bafe5c24db8a3f226f2a343fefe",
            "_model_module": "@jupyter-widgets/controls",
            "children": [
              "IPY_MODEL_4deb6142ff054ba7861e174f28c2d056",
              "IPY_MODEL_483194fd8ba04a3e91e3566713196ecf"
            ]
          }
        },
        "f7fa3bafe5c24db8a3f226f2a343fefe": {
          "model_module": "@jupyter-widgets/base",
          "model_name": "LayoutModel",
          "state": {
            "_view_name": "LayoutView",
            "grid_template_rows": null,
            "right": null,
            "justify_content": null,
            "_view_module": "@jupyter-widgets/base",
            "overflow": null,
            "_model_module_version": "1.2.0",
            "_view_count": null,
            "flex_flow": null,
            "width": null,
            "min_width": null,
            "border": null,
            "align_items": null,
            "bottom": null,
            "_model_module": "@jupyter-widgets/base",
            "top": null,
            "grid_column": null,
            "overflow_y": null,
            "overflow_x": null,
            "grid_auto_flow": null,
            "grid_area": null,
            "grid_template_columns": null,
            "flex": null,
            "_model_name": "LayoutModel",
            "justify_items": null,
            "grid_row": null,
            "max_height": null,
            "align_content": null,
            "visibility": null,
            "align_self": null,
            "height": null,
            "min_height": null,
            "padding": null,
            "grid_auto_rows": null,
            "grid_gap": null,
            "max_width": null,
            "order": null,
            "_view_module_version": "1.2.0",
            "grid_template_areas": null,
            "object_position": null,
            "object_fit": null,
            "grid_auto_columns": null,
            "margin": null,
            "display": null,
            "left": null
          }
        },
        "4deb6142ff054ba7861e174f28c2d056": {
          "model_module": "@jupyter-widgets/controls",
          "model_name": "FloatProgressModel",
          "state": {
            "_view_name": "ProgressView",
            "style": "IPY_MODEL_c15107131f0042b1b9bb4fc4d4384315",
            "_dom_classes": [],
            "description": "",
            "_model_name": "FloatProgressModel",
            "bar_style": "info",
            "max": 1,
            "_view_module": "@jupyter-widgets/controls",
            "_model_module_version": "1.5.0",
            "value": 1,
            "_view_count": null,
            "_view_module_version": "1.5.0",
            "orientation": "horizontal",
            "min": 0,
            "description_tooltip": null,
            "_model_module": "@jupyter-widgets/controls",
            "layout": "IPY_MODEL_7f6d706614434a68adfa7e55594ff190"
          }
        },
        "483194fd8ba04a3e91e3566713196ecf": {
          "model_module": "@jupyter-widgets/controls",
          "model_name": "HTMLModel",
          "state": {
            "_view_name": "HTMLView",
            "style": "IPY_MODEL_03170706243d4934896455b9cd86e767",
            "_dom_classes": [],
            "description": "",
            "_model_name": "HTMLModel",
            "placeholder": "​",
            "_view_module": "@jupyter-widgets/controls",
            "_model_module_version": "1.5.0",
            "value": " 57344/? [00:20&lt;00:00, 134824.17it/s]",
            "_view_count": null,
            "_view_module_version": "1.5.0",
            "description_tooltip": null,
            "_model_module": "@jupyter-widgets/controls",
            "layout": "IPY_MODEL_ba75840a12204d5bb9f8b0082ab98400"
          }
        },
        "c15107131f0042b1b9bb4fc4d4384315": {
          "model_module": "@jupyter-widgets/controls",
          "model_name": "ProgressStyleModel",
          "state": {
            "_view_name": "StyleView",
            "_model_name": "ProgressStyleModel",
            "description_width": "initial",
            "_view_module": "@jupyter-widgets/base",
            "_model_module_version": "1.5.0",
            "_view_count": null,
            "_view_module_version": "1.2.0",
            "bar_color": null,
            "_model_module": "@jupyter-widgets/controls"
          }
        },
        "7f6d706614434a68adfa7e55594ff190": {
          "model_module": "@jupyter-widgets/base",
          "model_name": "LayoutModel",
          "state": {
            "_view_name": "LayoutView",
            "grid_template_rows": null,
            "right": null,
            "justify_content": null,
            "_view_module": "@jupyter-widgets/base",
            "overflow": null,
            "_model_module_version": "1.2.0",
            "_view_count": null,
            "flex_flow": null,
            "width": null,
            "min_width": null,
            "border": null,
            "align_items": null,
            "bottom": null,
            "_model_module": "@jupyter-widgets/base",
            "top": null,
            "grid_column": null,
            "overflow_y": null,
            "overflow_x": null,
            "grid_auto_flow": null,
            "grid_area": null,
            "grid_template_columns": null,
            "flex": null,
            "_model_name": "LayoutModel",
            "justify_items": null,
            "grid_row": null,
            "max_height": null,
            "align_content": null,
            "visibility": null,
            "align_self": null,
            "height": null,
            "min_height": null,
            "padding": null,
            "grid_auto_rows": null,
            "grid_gap": null,
            "max_width": null,
            "order": null,
            "_view_module_version": "1.2.0",
            "grid_template_areas": null,
            "object_position": null,
            "object_fit": null,
            "grid_auto_columns": null,
            "margin": null,
            "display": null,
            "left": null
          }
        },
        "03170706243d4934896455b9cd86e767": {
          "model_module": "@jupyter-widgets/controls",
          "model_name": "DescriptionStyleModel",
          "state": {
            "_view_name": "StyleView",
            "_model_name": "DescriptionStyleModel",
            "description_width": "",
            "_view_module": "@jupyter-widgets/base",
            "_model_module_version": "1.5.0",
            "_view_count": null,
            "_view_module_version": "1.2.0",
            "_model_module": "@jupyter-widgets/controls"
          }
        },
        "ba75840a12204d5bb9f8b0082ab98400": {
          "model_module": "@jupyter-widgets/base",
          "model_name": "LayoutModel",
          "state": {
            "_view_name": "LayoutView",
            "grid_template_rows": null,
            "right": null,
            "justify_content": null,
            "_view_module": "@jupyter-widgets/base",
            "overflow": null,
            "_model_module_version": "1.2.0",
            "_view_count": null,
            "flex_flow": null,
            "width": null,
            "min_width": null,
            "border": null,
            "align_items": null,
            "bottom": null,
            "_model_module": "@jupyter-widgets/base",
            "top": null,
            "grid_column": null,
            "overflow_y": null,
            "overflow_x": null,
            "grid_auto_flow": null,
            "grid_area": null,
            "grid_template_columns": null,
            "flex": null,
            "_model_name": "LayoutModel",
            "justify_items": null,
            "grid_row": null,
            "max_height": null,
            "align_content": null,
            "visibility": null,
            "align_self": null,
            "height": null,
            "min_height": null,
            "padding": null,
            "grid_auto_rows": null,
            "grid_gap": null,
            "max_width": null,
            "order": null,
            "_view_module_version": "1.2.0",
            "grid_template_areas": null,
            "object_position": null,
            "object_fit": null,
            "grid_auto_columns": null,
            "margin": null,
            "display": null,
            "left": null
          }
        }
      }
    }
  },
  "cells": [
    {
      "cell_type": "markdown",
      "metadata": {
        "_cell_guid": "b1076dfc-b9ad-4769-8c92-a6c4dae69d19",
        "_uuid": "8f2839f25d086af736a60e9eeb907d3b93b6e0e5",
        "id": "2-V0thBfNiKV",
        "colab_type": "text"
      },
      "source": [
        "# Insurance cost prediction using linear regression\n",
        "\n",
        "In this assignment we're going to use information like a person's age, sex, BMI, no. of children and smoking habit to predict the price of yearly medical bills. This kind of model is useful for insurance companies to determine the yearly insurance premium for a person. The dataset for this problem is taken from: https://www.kaggle.com/mirichoi0218/insurance\n",
        "\n",
        "\n",
        "We will create a model with the following steps:\n",
        "1. Download and explore the dataset\n",
        "2. Prepare the dataset for training\n",
        "3. Create a linear regression model\n",
        "4. Train the model to fit the data\n",
        "5. Make predictions using the trained model\n",
        "\n",
        "\n",
        "This assignment builds upon the concepts from the first 2 lectures. It will help to review these Jupyter notebooks:\n",
        "- PyTorch basics: https://jovian.ml/aakashns/01-pytorch-basics\n",
        "- Linear Regression: https://jovian.ml/aakashns/02-linear-regression\n",
        "- Logistic Regression: https://jovian.ml/aakashns/03-logistic-regression\n",
        "- Linear regression (minimal): https://jovian.ml/aakashns/housing-linear-minimal\n",
        "- Logistic regression (minimal): https://jovian.ml/aakashns/mnist-logistic-minimal\n",
        "\n",
        "As you go through this notebook, you will find a **???** in certain places. Your job is to replace the **???** with appropriate code or values, to ensure that the notebook runs properly end-to-end . In some cases, you'll be required to choose some hyperparameters (learning rate, batch size etc.). Try to experiment with the hypeparameters to get the lowest loss.\n"
      ]
    },
    {
      "cell_type": "code",
      "metadata": {
        "id": "CISEEmY4NiKW",
        "colab_type": "code",
        "outputId": "6e14a966-2943-4641-8821-0852dfb5a658",
        "colab": {
          "base_uri": "https://localhost:8080/",
          "height": 50
        }
      },
      "source": [
        "# Uncomment and run the commands below if imports fail\n",
        "# !conda install numpy pytorch torchvision cpuonly -c pytorch -y\n",
        "# !pip install matplotlib --upgrade --quiet\n",
        "!pip install jovian --upgrade --quiet"
      ],
      "execution_count": 1,
      "outputs": [
        {
          "output_type": "stream",
          "text": [
            "\u001b[?25l\r\u001b[K     |████                            | 10kB 24.8MB/s eta 0:00:01\r\u001b[K     |███████▉                        | 20kB 1.7MB/s eta 0:00:01\r\u001b[K     |███████████▉                    | 30kB 2.3MB/s eta 0:00:01\r\u001b[K     |███████████████▊                | 40kB 2.6MB/s eta 0:00:01\r\u001b[K     |███████████████████▋            | 51kB 2.0MB/s eta 0:00:01\r\u001b[K     |███████████████████████▋        | 61kB 2.3MB/s eta 0:00:01\r\u001b[K     |███████████████████████████▌    | 71kB 2.5MB/s eta 0:00:01\r\u001b[K     |███████████████████████████████▍| 81kB 2.7MB/s eta 0:00:01\r\u001b[K     |████████████████████████████████| 92kB 2.5MB/s \n",
            "\u001b[?25h  Building wheel for uuid (setup.py) ... \u001b[?25l\u001b[?25hdone\n"
          ],
          "name": "stdout"
        }
      ]
    },
    {
      "cell_type": "code",
      "metadata": {
        "id": "D8wexWNkNiKa",
        "colab_type": "code",
        "colab": {}
      },
      "source": [
        "import torch\n",
        "import jovian\n",
        "import torchvision\n",
        "import torch.nn as nn\n",
        "import pandas as pd\n",
        "import matplotlib.pyplot as plt\n",
        "import torch.nn.functional as F\n",
        "from torchvision.datasets.utils import download_url\n",
        "from torch.utils.data import DataLoader, TensorDataset, random_split"
      ],
      "execution_count": 0,
      "outputs": []
    },
    {
      "cell_type": "code",
      "metadata": {
        "id": "ekrMN2EmNiKd",
        "colab_type": "code",
        "colab": {}
      },
      "source": [
        "project_name='02-insurance-linear-regression' # will be used by jovian.commit"
      ],
      "execution_count": 0,
      "outputs": []
    },
    {
      "cell_type": "markdown",
      "metadata": {
        "id": "Qy5IXWK3NiKf",
        "colab_type": "text"
      },
      "source": [
        "## Step 1: Download and explore the data\n",
        "\n",
        "Let us begin by downloading the data. We'll use the `download_url` function from PyTorch to get the data as a CSV (comma-separated values) file. "
      ]
    },
    {
      "cell_type": "code",
      "metadata": {
        "_cell_guid": "79c7e3d0-c299-4dcb-8224-4455121ee9b0",
        "_uuid": "d629ff2d2480ee46fbb7e2d37f6b5fab8052498a",
        "id": "ZM4KA82bNiKf",
        "colab_type": "code",
        "outputId": "0f213806-37e9-4354-e50d-70fa6f3749a6",
        "colab": {
          "base_uri": "https://localhost:8080/",
          "height": 86,
          "referenced_widgets": [
            "1680f4c7b1ef4d0796c26c758b460ff7",
            "f7fa3bafe5c24db8a3f226f2a343fefe",
            "4deb6142ff054ba7861e174f28c2d056",
            "483194fd8ba04a3e91e3566713196ecf",
            "c15107131f0042b1b9bb4fc4d4384315",
            "7f6d706614434a68adfa7e55594ff190",
            "03170706243d4934896455b9cd86e767",
            "ba75840a12204d5bb9f8b0082ab98400"
          ]
        }
      },
      "source": [
        "DATASET_URL = \"https://hub.jovian.ml/wp-content/uploads/2020/05/insurance.csv\"\n",
        "DATA_FILENAME = \"insurance.csv\"\n",
        "download_url(DATASET_URL, '.')"
      ],
      "execution_count": 4,
      "outputs": [
        {
          "output_type": "stream",
          "text": [
            "Downloading https://hub.jovian.ml/wp-content/uploads/2020/05/insurance.csv to ./insurance.csv\n"
          ],
          "name": "stdout"
        },
        {
          "output_type": "display_data",
          "data": {
            "application/vnd.jupyter.widget-view+json": {
              "model_id": "1680f4c7b1ef4d0796c26c758b460ff7",
              "version_minor": 0,
              "version_major": 2
            },
            "text/plain": [
              "HBox(children=(FloatProgress(value=1.0, bar_style='info', max=1.0), HTML(value='')))"
            ]
          },
          "metadata": {
            "tags": []
          }
        }
      ]
    },
    {
      "cell_type": "markdown",
      "metadata": {
        "id": "Nsl-8RaSNiKh",
        "colab_type": "text"
      },
      "source": [
        "To load the dataset into memory, we'll use the `read_csv` function from the `pandas` library. The data will be loaded as a Pandas dataframe. See this short tutorial to learn more: https://data36.com/pandas-tutorial-1-basics-reading-data-files-dataframes-data-selection/"
      ]
    },
    {
      "cell_type": "code",
      "metadata": {
        "id": "ff2jF45SNiKi",
        "colab_type": "code",
        "outputId": "5886a940-e833-4493-fcf9-a8092562606e",
        "colab": {
          "base_uri": "https://localhost:8080/",
          "height": 195
        }
      },
      "source": [
        "dataframe_raw = pd.read_csv(DATA_FILENAME)\n",
        "dataframe_raw.head()"
      ],
      "execution_count": 5,
      "outputs": [
        {
          "output_type": "execute_result",
          "data": {
            "text/html": [
              "<div>\n",
              "<style scoped>\n",
              "    .dataframe tbody tr th:only-of-type {\n",
              "        vertical-align: middle;\n",
              "    }\n",
              "\n",
              "    .dataframe tbody tr th {\n",
              "        vertical-align: top;\n",
              "    }\n",
              "\n",
              "    .dataframe thead th {\n",
              "        text-align: right;\n",
              "    }\n",
              "</style>\n",
              "<table border=\"1\" class=\"dataframe\">\n",
              "  <thead>\n",
              "    <tr style=\"text-align: right;\">\n",
              "      <th></th>\n",
              "      <th>age</th>\n",
              "      <th>sex</th>\n",
              "      <th>bmi</th>\n",
              "      <th>children</th>\n",
              "      <th>smoker</th>\n",
              "      <th>region</th>\n",
              "      <th>charges</th>\n",
              "    </tr>\n",
              "  </thead>\n",
              "  <tbody>\n",
              "    <tr>\n",
              "      <th>0</th>\n",
              "      <td>19</td>\n",
              "      <td>female</td>\n",
              "      <td>27.900</td>\n",
              "      <td>0</td>\n",
              "      <td>yes</td>\n",
              "      <td>southwest</td>\n",
              "      <td>16884.92400</td>\n",
              "    </tr>\n",
              "    <tr>\n",
              "      <th>1</th>\n",
              "      <td>18</td>\n",
              "      <td>male</td>\n",
              "      <td>33.770</td>\n",
              "      <td>1</td>\n",
              "      <td>no</td>\n",
              "      <td>southeast</td>\n",
              "      <td>1725.55230</td>\n",
              "    </tr>\n",
              "    <tr>\n",
              "      <th>2</th>\n",
              "      <td>28</td>\n",
              "      <td>male</td>\n",
              "      <td>33.000</td>\n",
              "      <td>3</td>\n",
              "      <td>no</td>\n",
              "      <td>southeast</td>\n",
              "      <td>4449.46200</td>\n",
              "    </tr>\n",
              "    <tr>\n",
              "      <th>3</th>\n",
              "      <td>33</td>\n",
              "      <td>male</td>\n",
              "      <td>22.705</td>\n",
              "      <td>0</td>\n",
              "      <td>no</td>\n",
              "      <td>northwest</td>\n",
              "      <td>21984.47061</td>\n",
              "    </tr>\n",
              "    <tr>\n",
              "      <th>4</th>\n",
              "      <td>32</td>\n",
              "      <td>male</td>\n",
              "      <td>28.880</td>\n",
              "      <td>0</td>\n",
              "      <td>no</td>\n",
              "      <td>northwest</td>\n",
              "      <td>3866.85520</td>\n",
              "    </tr>\n",
              "  </tbody>\n",
              "</table>\n",
              "</div>"
            ],
            "text/plain": [
              "   age     sex     bmi  children smoker     region      charges\n",
              "0   19  female  27.900         0    yes  southwest  16884.92400\n",
              "1   18    male  33.770         1     no  southeast   1725.55230\n",
              "2   28    male  33.000         3     no  southeast   4449.46200\n",
              "3   33    male  22.705         0     no  northwest  21984.47061\n",
              "4   32    male  28.880         0     no  northwest   3866.85520"
            ]
          },
          "metadata": {
            "tags": []
          },
          "execution_count": 5
        }
      ]
    },
    {
      "cell_type": "markdown",
      "metadata": {
        "id": "ZS4SAnjwNiKk",
        "colab_type": "text"
      },
      "source": [
        "We're going to do a slight customization of the data, so that you every participant receives a slightly different version of the dataset. Fill in your name below as a string (enter at least 5 characters)"
      ]
    },
    {
      "cell_type": "code",
      "metadata": {
        "id": "99dn4uAbNiKk",
        "colab_type": "code",
        "colab": {}
      },
      "source": [
        "your_name = 'Diego' # at least 5 characters"
      ],
      "execution_count": 0,
      "outputs": []
    },
    {
      "cell_type": "markdown",
      "metadata": {
        "id": "3maQ4chaNiKn",
        "colab_type": "text"
      },
      "source": [
        "The `customize_dataset` function will customize the dataset slightly using your name as a source of random numbers."
      ]
    },
    {
      "cell_type": "code",
      "metadata": {
        "id": "pvfrMjABNiKn",
        "colab_type": "code",
        "colab": {}
      },
      "source": [
        "def customize_dataset(dataframe_raw, rand_str):\n",
        "    dataframe = dataframe_raw.copy(deep=True)\n",
        "    # drop some rows\n",
        "    dataframe = dataframe.sample(int(0.95*len(dataframe)), random_state=int(ord(rand_str[0])))\n",
        "    # scale input\n",
        "    dataframe.bmi = dataframe.bmi * ord(rand_str[1])/100.\n",
        "    # scale target\n",
        "    dataframe.charges = dataframe.charges * ord(rand_str[2])/100.\n",
        "    # drop column\n",
        "    if ord(rand_str[3]) % 2 == 1:\n",
        "        dataframe = dataframe.drop(['region'], axis=1)\n",
        "    return dataframe"
      ],
      "execution_count": 0,
      "outputs": []
    },
    {
      "cell_type": "code",
      "metadata": {
        "id": "WYVV3yjqNiKq",
        "colab_type": "code",
        "colab": {
          "base_uri": "https://localhost:8080/",
          "height": 195
        },
        "outputId": "800eeeaf-ce61-406a-f446-76873dfe6251"
      },
      "source": [
        "dataframe = customize_dataset(dataframe_raw, your_name)\n",
        "dataframe.head()"
      ],
      "execution_count": 48,
      "outputs": [
        {
          "output_type": "execute_result",
          "data": {
            "text/html": [
              "<div>\n",
              "<style scoped>\n",
              "    .dataframe tbody tr th:only-of-type {\n",
              "        vertical-align: middle;\n",
              "    }\n",
              "\n",
              "    .dataframe tbody tr th {\n",
              "        vertical-align: top;\n",
              "    }\n",
              "\n",
              "    .dataframe thead th {\n",
              "        text-align: right;\n",
              "    }\n",
              "</style>\n",
              "<table border=\"1\" class=\"dataframe\">\n",
              "  <thead>\n",
              "    <tr style=\"text-align: right;\">\n",
              "      <th></th>\n",
              "      <th>age</th>\n",
              "      <th>sex</th>\n",
              "      <th>bmi</th>\n",
              "      <th>children</th>\n",
              "      <th>smoker</th>\n",
              "      <th>charges</th>\n",
              "    </tr>\n",
              "  </thead>\n",
              "  <tbody>\n",
              "    <tr>\n",
              "      <th>184</th>\n",
              "      <td>44</td>\n",
              "      <td>male</td>\n",
              "      <td>32.22450</td>\n",
              "      <td>2</td>\n",
              "      <td>no</td>\n",
              "      <td>7808.741371</td>\n",
              "    </tr>\n",
              "    <tr>\n",
              "      <th>378</th>\n",
              "      <td>64</td>\n",
              "      <td>female</td>\n",
              "      <td>31.62075</td>\n",
              "      <td>3</td>\n",
              "      <td>no</td>\n",
              "      <td>16620.264928</td>\n",
              "    </tr>\n",
              "    <tr>\n",
              "      <th>1179</th>\n",
              "      <td>31</td>\n",
              "      <td>male</td>\n",
              "      <td>31.30050</td>\n",
              "      <td>0</td>\n",
              "      <td>yes</td>\n",
              "      <td>19543.872589</td>\n",
              "    </tr>\n",
              "    <tr>\n",
              "      <th>55</th>\n",
              "      <td>58</td>\n",
              "      <td>male</td>\n",
              "      <td>38.80275</td>\n",
              "      <td>2</td>\n",
              "      <td>yes</td>\n",
              "      <td>47971.459394</td>\n",
              "    </tr>\n",
              "    <tr>\n",
              "      <th>121</th>\n",
              "      <td>18</td>\n",
              "      <td>male</td>\n",
              "      <td>24.93750</td>\n",
              "      <td>0</td>\n",
              "      <td>no</td>\n",
              "      <td>1722.680745</td>\n",
              "    </tr>\n",
              "  </tbody>\n",
              "</table>\n",
              "</div>"
            ],
            "text/plain": [
              "      age     sex       bmi  children smoker       charges\n",
              "184    44    male  32.22450         2     no   7808.741371\n",
              "378    64  female  31.62075         3     no  16620.264928\n",
              "1179   31    male  31.30050         0    yes  19543.872589\n",
              "55     58    male  38.80275         2    yes  47971.459394\n",
              "121    18    male  24.93750         0     no   1722.680745"
            ]
          },
          "metadata": {
            "tags": []
          },
          "execution_count": 48
        }
      ]
    },
    {
      "cell_type": "markdown",
      "metadata": {
        "id": "dtNxzBRaNiKs",
        "colab_type": "text"
      },
      "source": [
        "Let us answer some basic questions about the dataset. \n",
        "\n",
        "\n",
        "**Q: How many rows does the dataset have?**"
      ]
    },
    {
      "cell_type": "code",
      "metadata": {
        "id": "N6amkwHINiKt",
        "colab_type": "code",
        "colab": {
          "base_uri": "https://localhost:8080/",
          "height": 34
        },
        "outputId": "c1765e7a-dfbc-482c-a85b-c618851a7ea7"
      },
      "source": [
        "num_rows = dataframe.age.size\n",
        "print(num_rows)"
      ],
      "execution_count": 9,
      "outputs": [
        {
          "output_type": "stream",
          "text": [
            "1271\n"
          ],
          "name": "stdout"
        }
      ]
    },
    {
      "cell_type": "markdown",
      "metadata": {
        "id": "nV8Y-OrRNiKv",
        "colab_type": "text"
      },
      "source": [
        "**Q: How many columns doe the dataset have**"
      ]
    },
    {
      "cell_type": "code",
      "metadata": {
        "id": "NgnenBUQNiKv",
        "colab_type": "code",
        "colab": {
          "base_uri": "https://localhost:8080/",
          "height": 34
        },
        "outputId": "6fc97340-de9b-404c-986a-4317050db124"
      },
      "source": [
        "num_cols = dataframe.columns.size\n",
        "print(num_cols)"
      ],
      "execution_count": 11,
      "outputs": [
        {
          "output_type": "stream",
          "text": [
            "6\n"
          ],
          "name": "stdout"
        }
      ]
    },
    {
      "cell_type": "markdown",
      "metadata": {
        "id": "xchMZBrWNiKy",
        "colab_type": "text"
      },
      "source": [
        "**Q: What are the column titles of the input variables?**"
      ]
    },
    {
      "cell_type": "code",
      "metadata": {
        "id": "ynosykLbNiKy",
        "colab_type": "code",
        "colab": {}
      },
      "source": [
        "input_cols = ['age', 'sex', 'bmi', 'children', 'smoker']"
      ],
      "execution_count": 0,
      "outputs": []
    },
    {
      "cell_type": "markdown",
      "metadata": {
        "id": "uelS8ZKSNiK0",
        "colab_type": "text"
      },
      "source": [
        "**Q: Which of the input columns are non-numeric or categorial variables ?**\n",
        "\n",
        "Hint: `sex` is one of them. List the columns that are not numbers."
      ]
    },
    {
      "cell_type": "code",
      "metadata": {
        "id": "v0EIFgvlNiK1",
        "colab_type": "code",
        "colab": {}
      },
      "source": [
        "categorical_cols = ['sex', 'smoker']"
      ],
      "execution_count": 0,
      "outputs": []
    },
    {
      "cell_type": "markdown",
      "metadata": {
        "id": "FpnQuAbDNiK3",
        "colab_type": "text"
      },
      "source": [
        "**Q: What are the column titles of output/target variable(s)?**"
      ]
    },
    {
      "cell_type": "code",
      "metadata": {
        "id": "KY-pUqvMNiK4",
        "colab_type": "code",
        "colab": {}
      },
      "source": [
        "output_cols = ['charges']"
      ],
      "execution_count": 0,
      "outputs": []
    },
    {
      "cell_type": "markdown",
      "metadata": {
        "id": "FJHQfrHCNiK6",
        "colab_type": "text"
      },
      "source": [
        "**Q: (Optional) What is the minimum, maximum and average value of the `charges` column? Can you show the distribution of values in a graph?**\n",
        "Use this data visualization cheatsheet for referece: https://jovian.ml/aakashns/dataviz-cheatsheet"
      ]
    },
    {
      "cell_type": "code",
      "metadata": {
        "id": "s2x-swM0NiK7",
        "colab_type": "code",
        "colab": {
          "base_uri": "https://localhost:8080/",
          "height": 346
        },
        "outputId": "565c0c70-35d6-446d-b61a-b62d2ae66ba7"
      },
      "source": [
        "import seaborn as sns\n",
        "print('Min:', dataframe.charges.min())\n",
        "print('Max:', dataframe.charges.max())\n",
        "print('Mean:', dataframe.charges.mean())\n",
        "\n",
        "plt.title('Distribution of charges')\n",
        "sns.distplot(dataframe.charges, kde=False);"
      ],
      "execution_count": 80,
      "outputs": [
        {
          "output_type": "stream",
          "text": [
            "Min: 1133.092639\n",
            "Max: 64408.1322901\n",
            "Mean: 13375.48548777017\n"
          ],
          "name": "stdout"
        },
        {
          "output_type": "display_data",
          "data": {
            "image/png": "[encoded data removed]",
            "text/plain": [
              "<Figure size 432x288 with 1 Axes>"
            ]
          },
          "metadata": {
            "tags": [],
            "needs_background": "light"
          }
        }
      ]
    },
    {
      "cell_type": "markdown",
      "metadata": {
        "id": "O-cZr4ZoNiK9",
        "colab_type": "text"
      },
      "source": [
        "Remember to commit your notebook to Jovian after every step, so that you don't lose your work."
      ]
    },
    {
      "cell_type": "code",
      "metadata": {
        "id": "jlmeN04wNiK9",
        "colab_type": "code",
        "colab": {}
      },
      "source": [
        "jovian.commit(project=project_name, environment=None)"
      ],
      "execution_count": 0,
      "outputs": []
    },
    {
      "cell_type": "markdown",
      "metadata": {
        "id": "E1gLDpomNiK_",
        "colab_type": "text"
      },
      "source": [
        "## Step 2: Prepare the dataset for training\n",
        "\n",
        "We need to convert the data from the Pandas dataframe into a PyTorch tensors for training. To do this, the first step is to convert it numpy arrays. If you've filled out `input_cols`, `categorial_cols` and `output_cols` correctly, this following function will perform the conversion to numpy arrays."
      ]
    },
    {
      "cell_type": "code",
      "metadata": {
        "id": "XLOmgmwwNiK_",
        "colab_type": "code",
        "colab": {}
      },
      "source": [
        "def dataframe_to_arrays(dataframe):\n",
        "    # Make a copy of the original dataframe\n",
        "    dataframe1 = dataframe.copy(deep=True)\n",
        "    # Convert non-numeric categorical columns to numbers\n",
        "    for col in categorical_cols:\n",
        "        dataframe1[col] = dataframe1[col].astype('category').cat.codes\n",
        "    # Extract input & outupts as numpy arrays\n",
        "    inputs_array = dataframe1[input_cols].to_numpy()\n",
        "    targets_array = dataframe1[output_cols].to_numpy()\n",
        "    return inputs_array, targets_array"
      ],
      "execution_count": 0,
      "outputs": []
    },
    {
      "cell_type": "markdown",
      "metadata": {
        "id": "NJ9gsQziNiLB",
        "colab_type": "text"
      },
      "source": [
        "Read through the [Pandas documentation](https://pandas.pydata.org/pandas-docs/stable/user_guide/categorical.html) to understand how we're converting categorical variables into numbers."
      ]
    },
    {
      "cell_type": "code",
      "metadata": {
        "id": "tP_jBBTDNiLC",
        "colab_type": "code",
        "colab": {
          "base_uri": "https://localhost:8080/",
          "height": 252
        },
        "outputId": "69e6ccd5-b76a-40c9-807a-48a55d1e3f1d"
      },
      "source": [
        "inputs_array, targets_array = dataframe_to_arrays(dataframe)\n",
        "inputs_array, targets_array"
      ],
      "execution_count": 82,
      "outputs": [
        {
          "output_type": "execute_result",
          "data": {
            "text/plain": [
              "(array([[44.     ,  1.     , 32.2245 ,  2.     ,  0.     ],\n",
              "        [64.     ,  0.     , 31.62075,  3.     ,  0.     ],\n",
              "        [31.     ,  1.     , 31.3005 ,  0.     ,  1.     ],\n",
              "        ...,\n",
              "        [18.     ,  0.     , 42.294  ,  0.     ,  0.     ],\n",
              "        [54.     ,  1.     , 26.733  ,  1.     ,  0.     ],\n",
              "        [46.     ,  1.     , 27.951  ,  1.     ,  0.     ]]),\n",
              " array([[ 7808.741371 ],\n",
              "        [16620.2649285],\n",
              "        [19543.872589 ],\n",
              "        ...,\n",
              "        [ 2239.777212 ],\n",
              "        [25772.2847663],\n",
              "        [ 7819.530898 ]]))"
            ]
          },
          "metadata": {
            "tags": []
          },
          "execution_count": 82
        }
      ]
    },
    {
      "cell_type": "markdown",
      "metadata": {
        "id": "_YSMe0yFNiLE",
        "colab_type": "text"
      },
      "source": [
        "**Q: Convert the numpy arrays `inputs_array` and `targets_array` into PyTorch tensors. Make sure that the data type is `torch.float32`.**"
      ]
    },
    {
      "cell_type": "code",
      "metadata": {
        "id": "jysa4dNqNiLE",
        "colab_type": "code",
        "colab": {
          "base_uri": "https://localhost:8080/",
          "height": 235
        },
        "outputId": "e9ba94b8-84ed-43f6-f0b6-7f175303fc53"
      },
      "source": [
        "inputs = torch.from_numpy(inputs_array).type(torch.float32)\n",
        "targets = torch.from_numpy(targets_array).type(torch.float32)\n",
        "\n",
        "inputs, targets"
      ],
      "execution_count": 83,
      "outputs": [
        {
          "output_type": "execute_result",
          "data": {
            "text/plain": [
              "(tensor([[44.0000,  1.0000, 32.2245,  2.0000,  0.0000],\n",
              "         [64.0000,  0.0000, 31.6208,  3.0000,  0.0000],\n",
              "         [31.0000,  1.0000, 31.3005,  0.0000,  1.0000],\n",
              "         ...,\n",
              "         [18.0000,  0.0000, 42.2940,  0.0000,  0.0000],\n",
              "         [54.0000,  1.0000, 26.7330,  1.0000,  0.0000],\n",
              "         [46.0000,  1.0000, 27.9510,  1.0000,  0.0000]]), tensor([[ 7808.7412],\n",
              "         [16620.2656],\n",
              "         [19543.8730],\n",
              "         ...,\n",
              "         [ 2239.7771],\n",
              "         [25772.2852],\n",
              "         [ 7819.5308]]))"
            ]
          },
          "metadata": {
            "tags": []
          },
          "execution_count": 83
        }
      ]
    },
    {
      "cell_type": "code",
      "metadata": {
        "id": "2080onKcNiLG",
        "colab_type": "code",
        "colab": {
          "base_uri": "https://localhost:8080/",
          "height": 34
        },
        "outputId": "6174ef02-4c94-478a-d683-b80f27e210c8"
      },
      "source": [
        "inputs.dtype, targets.dtype"
      ],
      "execution_count": 84,
      "outputs": [
        {
          "output_type": "execute_result",
          "data": {
            "text/plain": [
              "(torch.float32, torch.float32)"
            ]
          },
          "metadata": {
            "tags": []
          },
          "execution_count": 84
        }
      ]
    },
    {
      "cell_type": "markdown",
      "metadata": {
        "id": "yrcMx_rQNiLI",
        "colab_type": "text"
      },
      "source": [
        "Next, we need to create PyTorch datasets & data loaders for training & validation. We'll start by creating a `TensorDataset`."
      ]
    },
    {
      "cell_type": "code",
      "metadata": {
        "id": "OoGm6FvjNiLJ",
        "colab_type": "code",
        "colab": {}
      },
      "source": [
        "dataset = TensorDataset(inputs, targets)"
      ],
      "execution_count": 0,
      "outputs": []
    },
    {
      "cell_type": "markdown",
      "metadata": {
        "id": "GlNuMnH0NiLL",
        "colab_type": "text"
      },
      "source": [
        "**Q: Pick a number between `0.1` and `0.2` to determine the fraction of data that will be used for creating the validation set. Then use `random_split` to create training & validation datasets. **"
      ]
    },
    {
      "cell_type": "code",
      "metadata": {
        "id": "k6_sbClRNiLL",
        "colab_type": "code",
        "colab": {}
      },
      "source": [
        "val_percent = 0.1\n",
        "val_size = int(num_rows * val_percent)\n",
        "train_size = num_rows - val_size\n",
        "\n",
        "\n",
        "train_ds, val_ds = random_split(dataset, [train_size, val_size]) # Use the random_split function to split dataset into 2 parts of the desired length"
      ],
      "execution_count": 0,
      "outputs": []
    },
    {
      "cell_type": "markdown",
      "metadata": {
        "id": "PDUYhDEDNiLO",
        "colab_type": "text"
      },
      "source": [
        "Finally, we can create data loaders for training & validation.\n",
        "\n",
        "**Q: Pick a batch size for the data loader.**"
      ]
    },
    {
      "cell_type": "code",
      "metadata": {
        "id": "dLtTlYj1NiLO",
        "colab_type": "code",
        "colab": {}
      },
      "source": [
        "batch_size = 32"
      ],
      "execution_count": 0,
      "outputs": []
    },
    {
      "cell_type": "code",
      "metadata": {
        "id": "h-lx8WPKNiLR",
        "colab_type": "code",
        "colab": {}
      },
      "source": [
        "train_loader = DataLoader(train_ds, batch_size, shuffle=True)\n",
        "val_loader = DataLoader(val_ds, batch_size)\n"
      ],
      "execution_count": 0,
      "outputs": []
    },
    {
      "cell_type": "markdown",
      "metadata": {
        "id": "DC1-mDCaNiLT",
        "colab_type": "text"
      },
      "source": [
        "Let's look at a batch of data to verify everything is working fine so far."
      ]
    },
    {
      "cell_type": "code",
      "metadata": {
        "id": "3LEnS0ZJNiLT",
        "colab_type": "code",
        "colab": {
          "base_uri": "https://localhost:8080/",
          "height": 1000
        },
        "outputId": "deb8eadd-d728-4a68-816a-ff9916f94300"
      },
      "source": [
        "for xb, yb in train_loader:\n",
        "    print(\"inputs:\", xb)\n",
        "    print(\"targets:\", yb)\n",
        "    break"
      ],
      "execution_count": 89,
      "outputs": [
        {
          "output_type": "stream",
          "text": [
            "inputs: tensor([[58.0000,  0.0000, 41.0025,  0.0000,  0.0000],\n",
            "        [53.0000,  1.0000, 25.5360,  0.0000,  0.0000],\n",
            "        [30.0000,  1.0000, 32.9700,  1.0000,  0.0000],\n",
            "        [28.0000,  1.0000, 25.5150,  5.0000,  0.0000],\n",
            "        [55.0000,  1.0000, 37.0073,  1.0000,  0.0000],\n",
            "        [61.0000,  0.0000, 34.9965,  4.0000,  0.0000],\n",
            "        [49.0000,  0.0000, 28.5285,  0.0000,  0.0000],\n",
            "        [38.0000,  0.0000, 30.3765,  1.0000,  0.0000],\n",
            "        [24.0000,  0.0000, 31.4212,  0.0000,  0.0000],\n",
            "        [48.0000,  1.0000, 33.9150,  1.0000,  0.0000],\n",
            "        [19.0000,  1.0000, 21.4463,  0.0000,  0.0000],\n",
            "        [18.0000,  1.0000, 34.9965,  0.0000,  0.0000],\n",
            "        [56.0000,  1.0000, 35.4113,  0.0000,  0.0000],\n",
            "        [37.0000,  1.0000, 23.8403,  3.0000,  0.0000],\n",
            "        [48.0000,  1.0000, 31.0800,  0.0000,  0.0000],\n",
            "        [55.0000,  0.0000, 26.6332,  3.0000,  0.0000],\n",
            "        [54.0000,  0.0000, 49.7805,  0.0000,  1.0000],\n",
            "        [44.0000,  0.0000, 39.9630,  0.0000,  1.0000],\n",
            "        [18.0000,  1.0000, 39.1545,  0.0000,  0.0000],\n",
            "        [58.0000,  1.0000, 30.0247,  0.0000,  0.0000],\n",
            "        [49.0000,  0.0000, 36.5085,  1.0000,  0.0000],\n",
            "        [39.0000,  0.0000, 26.1345,  3.0000,  1.0000],\n",
            "        [18.0000,  0.0000, 22.7430,  0.0000,  1.0000],\n",
            "        [49.0000,  0.0000, 22.3650,  1.0000,  0.0000],\n",
            "        [19.0000,  0.0000, 29.8200,  1.0000,  0.0000],\n",
            "        [53.0000,  0.0000, 37.6950,  2.0000,  0.0000],\n",
            "        [27.0000,  1.0000, 31.8150,  3.0000,  0.0000],\n",
            "        [43.0000,  0.0000, 25.9350,  2.0000,  1.0000],\n",
            "        [50.0000,  1.0000, 27.7305,  0.0000,  0.0000],\n",
            "        [44.0000,  0.0000, 38.3040,  0.0000,  0.0000],\n",
            "        [60.0000,  1.0000, 27.0270,  0.0000,  0.0000],\n",
            "        [55.0000,  1.0000, 39.1650,  0.0000,  0.0000]])\n",
            "targets: tensor([[11974.9756],\n",
            "        [ 9962.1064],\n",
            "        [ 3695.9395],\n",
            "        [ 5671.5225],\n",
            "        [11508.0059],\n",
            "        [36946.0859],\n",
            "        [ 8687.3428],\n",
            "        [ 6034.1284],\n",
            "        [ 2879.1907],\n",
            "        [ 8852.9014],\n",
            "        [ 1641.6881],\n",
            "        [ 1147.3000],\n",
            "        [11086.0078],\n",
            "        [ 7055.3618],\n",
            "        [21444.5039],\n",
            "        [13177.8057],\n",
            "        [64408.1328],\n",
            "        [49373.9883],\n",
            "        [ 1152.8595],\n",
            "        [11853.2383],\n",
            "        [ 9679.7324],\n",
            "        [21876.5293],\n",
            "        [14426.2939],\n",
            "        [ 9273.9922],\n",
            "        [ 2354.8342],\n",
            "        [11275.2041],\n",
            "        [ 4303.3516],\n",
            "        [22099.6289],\n",
            "        [ 8915.4824],\n",
            "        [12925.1816],\n",
            "        [12264.0039],\n",
            "        [20836.5859]])\n"
          ],
          "name": "stdout"
        }
      ]
    },
    {
      "cell_type": "markdown",
      "metadata": {
        "id": "e2r6rWFrNiLV",
        "colab_type": "text"
      },
      "source": [
        "Let's save our work by committing to Jovian."
      ]
    },
    {
      "cell_type": "code",
      "metadata": {
        "id": "jCRgVDkoNiLV",
        "colab_type": "code",
        "colab": {}
      },
      "source": [
        "jovian.commit(project=project_name, environment=None)"
      ],
      "execution_count": 0,
      "outputs": []
    },
    {
      "cell_type": "markdown",
      "metadata": {
        "id": "ENFVjwmBNiLX",
        "colab_type": "text"
      },
      "source": [
        "## Step 3: Create a Linear Regression Model\n",
        "\n",
        "Our model itself is a fairly straightforward linear regression (we'll build more complex models in the next assignment). \n"
      ]
    },
    {
      "cell_type": "code",
      "metadata": {
        "id": "Mk2I4RV3NiLX",
        "colab_type": "code",
        "colab": {}
      },
      "source": [
        "input_size = len(input_cols)\n",
        "output_size = len(output_cols)"
      ],
      "execution_count": 0,
      "outputs": []
    },
    {
      "cell_type": "markdown",
      "metadata": {
        "id": "4CACELclNiLZ",
        "colab_type": "text"
      },
      "source": [
        "**Q: Complete the class definition below by filling out the constructor (`__init__`), `forward`, `training_step` and `validation_step` methods.**\n",
        "\n",
        "Hint: Think carefully about picking a good loss fuction (it's not cross entropy). Maybe try 2-3 of them and see which one works best. See https://pytorch.org/docs/stable/nn.functional.html#loss-functions"
      ]
    },
    {
      "cell_type": "code",
      "metadata": {
        "id": "i9Qm66CpNiLa",
        "colab_type": "code",
        "colab": {}
      },
      "source": [
        "class InsuranceModel(nn.Module):\n",
        "    def __init__(self):\n",
        "        super().__init__()\n",
        "        self.linear = nn.Linear(input_size, output_size)              # fill this (hint: use input_size & output_size defined above)\n",
        "        \n",
        "    def forward(self, xb):\n",
        "        out = self.linear(xb)                        # fill this\n",
        "        return out\n",
        "    \n",
        "    def training_step(self, batch):\n",
        "        inputs, targets = batch \n",
        "        # Generate predictions\n",
        "        out = self(inputs)          \n",
        "        # Calcuate loss\n",
        "        loss = F.smooth_l1_loss(out,targets)                         # fill this\n",
        "        return loss\n",
        "    \n",
        "    def validation_step(self, batch):\n",
        "        inputs, targets = batch\n",
        "        # Generate predictions\n",
        "        out = self(inputs)\n",
        "        # Calculate loss\n",
        "        loss = F.smooth_l1_loss(out, targets)                           # fill this    \n",
        "        return {'val_loss': loss.detach()}\n",
        "        \n",
        "    def validation_epoch_end(self, outputs):\n",
        "        batch_losses = [x['val_loss'] for x in outputs]\n",
        "        epoch_loss = torch.stack(batch_losses).mean()   # Combine losses\n",
        "        return {'val_loss': epoch_loss.item()}\n",
        "    \n",
        "    def epoch_end(self, epoch, result, num_epochs):\n",
        "        # Print result every 20th epoch\n",
        "        if (epoch+1) % 20 == 0 or epoch == num_epochs-1:\n",
        "            print(\"Epoch [{}], val_loss: {:.4f}\".format(epoch+1, result['val_loss']))"
      ],
      "execution_count": 0,
      "outputs": []
    },
    {
      "cell_type": "markdown",
      "metadata": {
        "id": "w1SgpybrNiLc",
        "colab_type": "text"
      },
      "source": [
        "Let us create a model using the `InsuranceModel` class. You may need to come back later and re-run the next cell to reinitialize the model, in case the loss becomes `nan` or `infinity`."
      ]
    },
    {
      "cell_type": "code",
      "metadata": {
        "id": "KGu_CfcWNiLd",
        "colab_type": "code",
        "colab": {}
      },
      "source": [
        "model = InsuranceModel()"
      ],
      "execution_count": 0,
      "outputs": []
    },
    {
      "cell_type": "markdown",
      "metadata": {
        "id": "NJU5QQT9NiLe",
        "colab_type": "text"
      },
      "source": [
        "Let's check out the weights and biases of the model using `model.parameters`."
      ]
    },
    {
      "cell_type": "code",
      "metadata": {
        "id": "TbZHrGHiNiLf",
        "colab_type": "code",
        "colab": {
          "base_uri": "https://localhost:8080/",
          "height": 84
        },
        "outputId": "ef0ba302-f4d6-4735-9028-cd8a68733366"
      },
      "source": [
        "list(model.parameters())"
      ],
      "execution_count": 93,
      "outputs": [
        {
          "output_type": "execute_result",
          "data": {
            "text/plain": [
              "[Parameter containing:\n",
              " tensor([[ 0.1176, -0.2297,  0.1249, -0.0452, -0.1390]], requires_grad=True),\n",
              " Parameter containing:\n",
              " tensor([-0.3779], requires_grad=True)]"
            ]
          },
          "metadata": {
            "tags": []
          },
          "execution_count": 93
        }
      ]
    },
    {
      "cell_type": "markdown",
      "metadata": {
        "id": "aMEQhTTCNiLh",
        "colab_type": "text"
      },
      "source": [
        "One final commit before we train the model."
      ]
    },
    {
      "cell_type": "code",
      "metadata": {
        "id": "tNnvxisnNiLh",
        "colab_type": "code",
        "colab": {
          "base_uri": "https://localhost:8080/",
          "height": 34
        },
        "outputId": "96c804cf-1ac8-4d97-efda-774fe0fd5f5e"
      },
      "source": [
        "jovian.commit(project=project_name, environment=None)"
      ],
      "execution_count": 37,
      "outputs": [
        {
          "output_type": "stream",
          "text": [
            "\u001b[31m[jovian] Error: Failed to detect Jupyter notebook or Python script. Skipping..\u001b[0m\n"
          ],
          "name": "stderr"
        }
      ]
    },
    {
      "cell_type": "markdown",
      "metadata": {
        "id": "WKVwKNq-NiLj",
        "colab_type": "text"
      },
      "source": [
        "## Step 4: Train the model to fit the data\n",
        "\n",
        "To train our model, we'll use the same `fit` function explained in the lecture. That's the benefit of defining a generic training loop - you can use it for any problem."
      ]
    },
    {
      "cell_type": "code",
      "metadata": {
        "id": "j5HcXbGDNiLk",
        "colab_type": "code",
        "colab": {}
      },
      "source": [
        "def evaluate(model, val_loader):\n",
        "    outputs = [model.validation_step(batch) for batch in val_loader]\n",
        "    return model.validation_epoch_end(outputs)\n",
        "\n",
        "def fit(epochs, lr, model, train_loader, val_loader, opt_func=torch.optim.SGD):\n",
        "    history = []\n",
        "    optimizer = opt_func(model.parameters(), lr)\n",
        "    for epoch in range(epochs):\n",
        "        # Training Phase \n",
        "        for batch in train_loader:\n",
        "            loss = model.training_step(batch)\n",
        "            loss.backward()\n",
        "            optimizer.step()\n",
        "            optimizer.zero_grad()\n",
        "        # Validation phase\n",
        "        result = evaluate(model, val_loader)\n",
        "        model.epoch_end(epoch, result, epochs)\n",
        "        history.append(result)\n",
        "    return history"
      ],
      "execution_count": 0,
      "outputs": []
    },
    {
      "cell_type": "markdown",
      "metadata": {
        "id": "p5ytcWGuNiLl",
        "colab_type": "text"
      },
      "source": [
        "**Q: Use the `evaluate` function to calculate the loss on the validation set before training.**"
      ]
    },
    {
      "cell_type": "code",
      "metadata": {
        "id": "kFb8uluMNiLl",
        "colab_type": "code",
        "colab": {
          "base_uri": "https://localhost:8080/",
          "height": 34
        },
        "outputId": "01ad9607-958b-463b-cfdc-e920ced85f6c"
      },
      "source": [
        "result = evaluate(model, val_loader) # Use the the evaluate function\n",
        "print(result)"
      ],
      "execution_count": 95,
      "outputs": [
        {
          "output_type": "stream",
          "text": [
            "{'val_loss': 13336.896484375}\n"
          ],
          "name": "stdout"
        }
      ]
    },
    {
      "cell_type": "markdown",
      "metadata": {
        "id": "0-fNGT01NiLn",
        "colab_type": "text"
      },
      "source": [
        "\n",
        "We are now ready to train the model. You may need to run the training loop many times, for different number of epochs and with different learning rates, to get a good result. Also, if your loss becomes too large (or `nan`), you may have to re-initialize the model by running the cell `model = InsuranceModel()`. Experiment with this for a while, and try to get to as low a loss as possible."
      ]
    },
    {
      "cell_type": "markdown",
      "metadata": {
        "id": "tenbfBEBNiLo",
        "colab_type": "text"
      },
      "source": [
        "**Q: Train the model 4-5 times with different learning rates & for different number of epochs.**\n",
        "\n",
        "Hint: Vary learning rates by orders of 10 (e.g. `1e-2`, `1e-3`, `1e-4`, `1e-5`, `1e-6`) to figure out what works."
      ]
    },
    {
      "cell_type": "code",
      "metadata": {
        "id": "JYQFg9VhNiLo",
        "colab_type": "code",
        "colab": {
          "base_uri": "https://localhost:8080/",
          "height": 101
        },
        "outputId": "f7a94ac0-d3fd-44d3-f9ab-16098056d5f2"
      },
      "source": [
        "model = InsuranceModel()\n",
        "epochs = 100\n",
        "lr = 1e-6\n",
        "history1 = fit(epochs, lr, model, train_loader, val_loader)"
      ],
      "execution_count": 96,
      "outputs": [
        {
          "output_type": "stream",
          "text": [
            "Epoch [20], val_loss: 13345.1318\n",
            "Epoch [40], val_loss: 13343.2451\n",
            "Epoch [60], val_loss: 13341.3584\n",
            "Epoch [80], val_loss: 13339.4697\n",
            "Epoch [100], val_loss: 13337.5820\n"
          ],
          "name": "stdout"
        }
      ]
    },
    {
      "cell_type": "code",
      "metadata": {
        "id": "dBPluYJmNiLq",
        "colab_type": "code",
        "colab": {
          "base_uri": "https://localhost:8080/",
          "height": 101
        },
        "outputId": "ccad8624-5b7d-4371-f1fe-8467319a1eea"
      },
      "source": [
        "model = InsuranceModel()\n",
        "epochs = 100\n",
        "lr = 1e-5\n",
        "history1 = fit(epochs, lr, model, train_loader, val_loader)"
      ],
      "execution_count": 99,
      "outputs": [
        {
          "output_type": "stream",
          "text": [
            "Epoch [20], val_loss: 13338.1904\n",
            "Epoch [40], val_loss: 13319.3164\n",
            "Epoch [60], val_loss: 13300.4395\n",
            "Epoch [80], val_loss: 13281.5645\n",
            "Epoch [100], val_loss: 13262.6875\n"
          ],
          "name": "stdout"
        }
      ]
    },
    {
      "cell_type": "code",
      "metadata": {
        "id": "AgaF5O4GNiLr",
        "colab_type": "code",
        "colab": {
          "base_uri": "https://localhost:8080/",
          "height": 101
        },
        "outputId": "17c4837b-a292-4bd8-b8e2-fc12ae89c4d4"
      },
      "source": [
        "model = InsuranceModel()\n",
        "epochs = 100\n",
        "lr = 1e-4\n",
        "history3 = fit(epochs, lr, model, train_loader, val_loader)"
      ],
      "execution_count": 100,
      "outputs": [
        {
          "output_type": "stream",
          "text": [
            "Epoch [20], val_loss: 13134.9648\n",
            "Epoch [40], val_loss: 12946.1895\n",
            "Epoch [60], val_loss: 12757.4160\n",
            "Epoch [80], val_loss: 12568.6465\n",
            "Epoch [100], val_loss: 12379.8936\n"
          ],
          "name": "stdout"
        }
      ]
    },
    {
      "cell_type": "code",
      "metadata": {
        "id": "7BUIMTr7NiLt",
        "colab_type": "code",
        "colab": {
          "base_uri": "https://localhost:8080/",
          "height": 1000
        },
        "outputId": "8b07c4fa-cc15-4a4e-ca3f-a2414526b89b"
      },
      "source": [
        "model = InsuranceModel()\n",
        "epochs = 3000\n",
        "lr = 1e-4\n",
        "history4 = fit(epochs, lr, model, train_loader, val_loader)"
      ],
      "execution_count": 101,
      "outputs": [
        {
          "output_type": "stream",
          "text": [
            "Epoch [20], val_loss: 13178.9688\n",
            "Epoch [40], val_loss: 12990.2402\n",
            "Epoch [60], val_loss: 12801.4736\n",
            "Epoch [80], val_loss: 12612.7197\n",
            "Epoch [100], val_loss: 12423.9805\n",
            "Epoch [120], val_loss: 12235.2480\n",
            "Epoch [140], val_loss: 12046.5996\n",
            "Epoch [160], val_loss: 11858.3281\n",
            "Epoch [180], val_loss: 11670.8340\n",
            "Epoch [200], val_loss: 11484.7178\n",
            "Epoch [220], val_loss: 11299.6846\n",
            "Epoch [240], val_loss: 11116.5342\n",
            "Epoch [260], val_loss: 10935.6533\n",
            "Epoch [280], val_loss: 10758.3896\n",
            "Epoch [300], val_loss: 10587.2422\n",
            "Epoch [320], val_loss: 10424.7236\n",
            "Epoch [340], val_loss: 10269.2373\n",
            "Epoch [360], val_loss: 10120.2227\n",
            "Epoch [380], val_loss: 9973.8096\n",
            "Epoch [400], val_loss: 9831.2109\n",
            "Epoch [420], val_loss: 9693.4678\n",
            "Epoch [440], val_loss: 9562.5225\n",
            "Epoch [460], val_loss: 9439.0537\n",
            "Epoch [480], val_loss: 9316.9521\n",
            "Epoch [500], val_loss: 9198.1523\n",
            "Epoch [520], val_loss: 9083.5576\n",
            "Epoch [540], val_loss: 8974.7041\n",
            "Epoch [560], val_loss: 8867.3408\n",
            "Epoch [580], val_loss: 8767.4473\n",
            "Epoch [600], val_loss: 8672.8184\n",
            "Epoch [620], val_loss: 8581.8789\n",
            "Epoch [640], val_loss: 8497.2666\n",
            "Epoch [660], val_loss: 8415.8574\n",
            "Epoch [680], val_loss: 8338.6758\n",
            "Epoch [700], val_loss: 8265.5605\n",
            "Epoch [720], val_loss: 8197.1914\n",
            "Epoch [740], val_loss: 8133.9834\n",
            "Epoch [760], val_loss: 8073.5210\n",
            "Epoch [780], val_loss: 8014.9995\n",
            "Epoch [800], val_loss: 7958.0737\n",
            "Epoch [820], val_loss: 7903.0996\n",
            "Epoch [840], val_loss: 7849.9414\n",
            "Epoch [860], val_loss: 7798.7798\n",
            "Epoch [880], val_loss: 7749.7969\n",
            "Epoch [900], val_loss: 7701.7285\n",
            "Epoch [920], val_loss: 7656.0679\n",
            "Epoch [940], val_loss: 7611.8096\n",
            "Epoch [960], val_loss: 7570.1826\n",
            "Epoch [980], val_loss: 7531.2012\n",
            "Epoch [1000], val_loss: 7495.4375\n",
            "Epoch [1020], val_loss: 7462.0093\n",
            "Epoch [1040], val_loss: 7432.1064\n",
            "Epoch [1060], val_loss: 7403.5156\n",
            "Epoch [1080], val_loss: 7375.9751\n",
            "Epoch [1100], val_loss: 7349.7959\n",
            "Epoch [1120], val_loss: 7324.8408\n",
            "Epoch [1140], val_loss: 7301.2817\n",
            "Epoch [1160], val_loss: 7280.1660\n",
            "Epoch [1180], val_loss: 7260.7246\n",
            "Epoch [1200], val_loss: 7242.4893\n",
            "Epoch [1220], val_loss: 7224.7964\n",
            "Epoch [1240], val_loss: 7207.6484\n",
            "Epoch [1260], val_loss: 7191.7446\n",
            "Epoch [1280], val_loss: 7176.5342\n",
            "Epoch [1300], val_loss: 7163.0781\n",
            "Epoch [1320], val_loss: 7150.2676\n",
            "Epoch [1340], val_loss: 7138.9512\n",
            "Epoch [1360], val_loss: 7128.2344\n",
            "Epoch [1380], val_loss: 7117.9839\n",
            "Epoch [1400], val_loss: 7108.0151\n",
            "Epoch [1420], val_loss: 7099.1919\n",
            "Epoch [1440], val_loss: 7090.8193\n",
            "Epoch [1460], val_loss: 7082.9644\n",
            "Epoch [1480], val_loss: 7075.5908\n",
            "Epoch [1500], val_loss: 7068.7627\n",
            "Epoch [1520], val_loss: 7062.2983\n",
            "Epoch [1540], val_loss: 7056.3359\n",
            "Epoch [1560], val_loss: 7050.7754\n",
            "Epoch [1580], val_loss: 7045.3618\n",
            "Epoch [1600], val_loss: 7040.1558\n",
            "Epoch [1620], val_loss: 7035.2471\n",
            "Epoch [1640], val_loss: 7031.1260\n",
            "Epoch [1660], val_loss: 7027.2363\n",
            "Epoch [1680], val_loss: 7023.4521\n",
            "Epoch [1700], val_loss: 7020.0854\n",
            "Epoch [1720], val_loss: 7016.8506\n",
            "Epoch [1740], val_loss: 7013.9526\n",
            "Epoch [1760], val_loss: 7011.4824\n",
            "Epoch [1780], val_loss: 7009.0137\n",
            "Epoch [1800], val_loss: 7006.7500\n",
            "Epoch [1820], val_loss: 7004.6733\n",
            "Epoch [1840], val_loss: 7002.6401\n",
            "Epoch [1860], val_loss: 7000.6631\n",
            "Epoch [1880], val_loss: 6998.7007\n",
            "Epoch [1900], val_loss: 6996.7520\n",
            "Epoch [1920], val_loss: 6994.8438\n",
            "Epoch [1940], val_loss: 6992.9497\n",
            "Epoch [1960], val_loss: 6991.0693\n",
            "Epoch [1980], val_loss: 6989.1929\n",
            "Epoch [2000], val_loss: 6987.3364\n",
            "Epoch [2020], val_loss: 6985.5420\n",
            "Epoch [2040], val_loss: 6983.9033\n",
            "Epoch [2060], val_loss: 6982.2617\n",
            "Epoch [2080], val_loss: 6980.6289\n",
            "Epoch [2100], val_loss: 6979.0518\n",
            "Epoch [2120], val_loss: 6977.6602\n",
            "Epoch [2140], val_loss: 6976.3242\n",
            "Epoch [2160], val_loss: 6975.0049\n",
            "Epoch [2180], val_loss: 6973.6870\n",
            "Epoch [2200], val_loss: 6972.3691\n",
            "Epoch [2220], val_loss: 6971.0649\n",
            "Epoch [2240], val_loss: 6969.7676\n",
            "Epoch [2260], val_loss: 6968.4956\n",
            "Epoch [2280], val_loss: 6967.3608\n",
            "Epoch [2300], val_loss: 6966.3276\n",
            "Epoch [2320], val_loss: 6965.3130\n",
            "Epoch [2340], val_loss: 6964.2959\n",
            "Epoch [2360], val_loss: 6963.2798\n",
            "Epoch [2380], val_loss: 6962.2607\n",
            "Epoch [2400], val_loss: 6961.2432\n",
            "Epoch [2420], val_loss: 6960.2251\n",
            "Epoch [2440], val_loss: 6959.2056\n",
            "Epoch [2460], val_loss: 6958.1978\n",
            "Epoch [2480], val_loss: 6957.3232\n",
            "Epoch [2500], val_loss: 6956.5142\n",
            "Epoch [2520], val_loss: 6955.7358\n",
            "Epoch [2540], val_loss: 6955.0308\n",
            "Epoch [2560], val_loss: 6954.2900\n",
            "Epoch [2580], val_loss: 6953.5337\n",
            "Epoch [2600], val_loss: 6952.7656\n",
            "Epoch [2620], val_loss: 6951.9951\n",
            "Epoch [2640], val_loss: 6951.2109\n",
            "Epoch [2660], val_loss: 6950.4341\n",
            "Epoch [2680], val_loss: 6949.6558\n",
            "Epoch [2700], val_loss: 6948.8779\n",
            "Epoch [2720], val_loss: 6948.0947\n",
            "Epoch [2740], val_loss: 6947.3188\n",
            "Epoch [2760], val_loss: 6946.5508\n",
            "Epoch [2780], val_loss: 6945.7661\n",
            "Epoch [2800], val_loss: 6944.9429\n",
            "Epoch [2820], val_loss: 6944.1191\n",
            "Epoch [2840], val_loss: 6943.2866\n",
            "Epoch [2860], val_loss: 6942.4556\n",
            "Epoch [2880], val_loss: 6941.6270\n",
            "Epoch [2900], val_loss: 6940.7676\n",
            "Epoch [2920], val_loss: 6939.8862\n",
            "Epoch [2940], val_loss: 6938.9829\n",
            "Epoch [2960], val_loss: 6938.0747\n",
            "Epoch [2980], val_loss: 6937.1768\n",
            "Epoch [3000], val_loss: 6936.2744\n"
          ],
          "name": "stdout"
        }
      ]
    },
    {
      "cell_type": "code",
      "metadata": {
        "id": "3uKdOUzcNiLv",
        "colab_type": "code",
        "colab": {
          "base_uri": "https://localhost:8080/",
          "height": 1000
        },
        "outputId": "3a669e16-dcd1-457d-b4e1-563c72b94bb9"
      },
      "source": [
        "model = InsuranceModel()\n",
        "epochs = 5000\n",
        "lr = 1e-3\n",
        "history5 = fit(epochs, lr, model, train_loader, val_loader)"
      ],
      "execution_count": 103,
      "outputs": [
        {
          "output_type": "stream",
          "text": [
            "Epoch [20], val_loss: 11466.7520\n",
            "Epoch [40], val_loss: 9818.1641\n",
            "Epoch [60], val_loss: 8665.9326\n",
            "Epoch [80], val_loss: 7954.6016\n",
            "Epoch [100], val_loss: 7494.0293\n",
            "Epoch [120], val_loss: 7242.5430\n",
            "Epoch [140], val_loss: 7108.7900\n",
            "Epoch [160], val_loss: 7041.1299\n",
            "Epoch [180], val_loss: 7008.0239\n",
            "Epoch [200], val_loss: 6988.6133\n",
            "Epoch [220], val_loss: 6973.6724\n",
            "Epoch [240], val_loss: 6962.5283\n",
            "Epoch [260], val_loss: 6954.0850\n",
            "Epoch [280], val_loss: 6946.1943\n",
            "Epoch [300], val_loss: 6937.5815\n",
            "Epoch [320], val_loss: 6928.5405\n",
            "Epoch [340], val_loss: 6919.5684\n",
            "Epoch [360], val_loss: 6910.4067\n",
            "Epoch [380], val_loss: 6901.1553\n",
            "Epoch [400], val_loss: 6892.2290\n",
            "Epoch [420], val_loss: 6883.2734\n",
            "Epoch [440], val_loss: 6874.2129\n",
            "Epoch [460], val_loss: 6865.1543\n",
            "Epoch [480], val_loss: 6855.8413\n",
            "Epoch [500], val_loss: 6846.4858\n",
            "Epoch [520], val_loss: 6837.2183\n",
            "Epoch [540], val_loss: 6828.0298\n",
            "Epoch [560], val_loss: 6819.6094\n",
            "Epoch [580], val_loss: 6811.3833\n",
            "Epoch [600], val_loss: 6803.4434\n",
            "Epoch [620], val_loss: 6795.6187\n",
            "Epoch [640], val_loss: 6787.7676\n",
            "Epoch [660], val_loss: 6779.8379\n",
            "Epoch [680], val_loss: 6771.7495\n",
            "Epoch [700], val_loss: 6763.8315\n",
            "Epoch [720], val_loss: 6756.5352\n",
            "Epoch [740], val_loss: 6749.1943\n",
            "Epoch [760], val_loss: 6741.9404\n",
            "Epoch [780], val_loss: 6734.7876\n",
            "Epoch [800], val_loss: 6727.5088\n",
            "Epoch [820], val_loss: 6719.9727\n",
            "Epoch [840], val_loss: 6712.3672\n",
            "Epoch [860], val_loss: 6704.8726\n",
            "Epoch [880], val_loss: 6697.3398\n",
            "Epoch [900], val_loss: 6690.3525\n",
            "Epoch [920], val_loss: 6683.2627\n",
            "Epoch [940], val_loss: 6676.6226\n",
            "Epoch [960], val_loss: 6669.4360\n",
            "Epoch [980], val_loss: 6662.1050\n",
            "Epoch [1000], val_loss: 6654.8813\n",
            "Epoch [1020], val_loss: 6647.7114\n",
            "Epoch [1040], val_loss: 6640.7041\n",
            "Epoch [1060], val_loss: 6634.0630\n",
            "Epoch [1080], val_loss: 6627.9961\n",
            "Epoch [1100], val_loss: 6621.8271\n",
            "Epoch [1120], val_loss: 6615.8955\n",
            "Epoch [1140], val_loss: 6610.2041\n",
            "Epoch [1160], val_loss: 6604.5605\n",
            "Epoch [1180], val_loss: 6598.9785\n",
            "Epoch [1200], val_loss: 6593.7163\n",
            "Epoch [1220], val_loss: 6588.4961\n",
            "Epoch [1240], val_loss: 6583.2793\n",
            "Epoch [1260], val_loss: 6578.1616\n",
            "Epoch [1280], val_loss: 6573.2241\n",
            "Epoch [1300], val_loss: 6568.3809\n",
            "Epoch [1320], val_loss: 6563.3921\n",
            "Epoch [1340], val_loss: 6558.4229\n",
            "Epoch [1360], val_loss: 6553.8418\n",
            "Epoch [1380], val_loss: 6549.4385\n",
            "Epoch [1400], val_loss: 6545.0654\n",
            "Epoch [1420], val_loss: 6540.7729\n",
            "Epoch [1440], val_loss: 6536.6021\n",
            "Epoch [1460], val_loss: 6532.7891\n",
            "Epoch [1480], val_loss: 6529.4189\n",
            "Epoch [1500], val_loss: 6526.1152\n",
            "Epoch [1520], val_loss: 6522.8003\n",
            "Epoch [1540], val_loss: 6519.6489\n",
            "Epoch [1560], val_loss: 6516.6436\n",
            "Epoch [1580], val_loss: 6514.1113\n",
            "Epoch [1600], val_loss: 6511.7637\n",
            "Epoch [1620], val_loss: 6509.6074\n",
            "Epoch [1640], val_loss: 6507.4043\n",
            "Epoch [1660], val_loss: 6505.1753\n",
            "Epoch [1680], val_loss: 6503.3057\n",
            "Epoch [1700], val_loss: 6501.3569\n",
            "Epoch [1720], val_loss: 6499.5889\n",
            "Epoch [1740], val_loss: 6497.9844\n",
            "Epoch [1760], val_loss: 6496.6313\n",
            "Epoch [1780], val_loss: 6495.3354\n",
            "Epoch [1800], val_loss: 6493.9507\n",
            "Epoch [1820], val_loss: 6492.7969\n",
            "Epoch [1840], val_loss: 6491.6392\n",
            "Epoch [1860], val_loss: 6490.3110\n",
            "Epoch [1880], val_loss: 6488.9849\n",
            "Epoch [1900], val_loss: 6488.1289\n",
            "Epoch [1920], val_loss: 6487.3394\n",
            "Epoch [1940], val_loss: 6486.2939\n",
            "Epoch [1960], val_loss: 6485.1621\n",
            "Epoch [1980], val_loss: 6484.0625\n",
            "Epoch [2000], val_loss: 6483.2212\n",
            "Epoch [2020], val_loss: 6482.4312\n",
            "Epoch [2040], val_loss: 6481.5776\n",
            "Epoch [2060], val_loss: 6480.6235\n",
            "Epoch [2080], val_loss: 6479.7500\n",
            "Epoch [2100], val_loss: 6478.4756\n",
            "Epoch [2120], val_loss: 6477.4941\n",
            "Epoch [2140], val_loss: 6477.0801\n",
            "Epoch [2160], val_loss: 6476.8623\n",
            "Epoch [2180], val_loss: 6476.7100\n",
            "Epoch [2200], val_loss: 6476.6860\n",
            "Epoch [2220], val_loss: 6476.7007\n",
            "Epoch [2240], val_loss: 6476.7329\n",
            "Epoch [2260], val_loss: 6476.6284\n",
            "Epoch [2280], val_loss: 6476.5566\n",
            "Epoch [2300], val_loss: 6476.4937\n",
            "Epoch [2320], val_loss: 6476.4248\n",
            "Epoch [2340], val_loss: 6476.4937\n",
            "Epoch [2360], val_loss: 6476.2188\n",
            "Epoch [2380], val_loss: 6476.0449\n",
            "Epoch [2400], val_loss: 6475.8589\n",
            "Epoch [2420], val_loss: 6475.6821\n",
            "Epoch [2440], val_loss: 6475.6343\n",
            "Epoch [2460], val_loss: 6475.6206\n",
            "Epoch [2480], val_loss: 6475.5444\n",
            "Epoch [2500], val_loss: 6475.3540\n",
            "Epoch [2520], val_loss: 6475.2627\n",
            "Epoch [2540], val_loss: 6475.1982\n",
            "Epoch [2560], val_loss: 6475.1621\n",
            "Epoch [2580], val_loss: 6475.0459\n",
            "Epoch [2600], val_loss: 6474.8906\n",
            "Epoch [2620], val_loss: 6474.5493\n",
            "Epoch [2640], val_loss: 6474.4102\n",
            "Epoch [2660], val_loss: 6474.1934\n",
            "Epoch [2680], val_loss: 6473.9204\n",
            "Epoch [2700], val_loss: 6473.6865\n",
            "Epoch [2720], val_loss: 6473.5605\n",
            "Epoch [2740], val_loss: 6473.3892\n",
            "Epoch [2760], val_loss: 6473.2715\n",
            "Epoch [2780], val_loss: 6473.1104\n",
            "Epoch [2800], val_loss: 6472.9619\n",
            "Epoch [2820], val_loss: 6472.8672\n",
            "Epoch [2840], val_loss: 6472.6855\n",
            "Epoch [2860], val_loss: 6472.5146\n",
            "Epoch [2880], val_loss: 6472.4951\n",
            "Epoch [2900], val_loss: 6472.4077\n",
            "Epoch [2920], val_loss: 6472.1421\n",
            "Epoch [2940], val_loss: 6472.0547\n",
            "Epoch [2960], val_loss: 6471.8252\n",
            "Epoch [2980], val_loss: 6471.5942\n",
            "Epoch [3000], val_loss: 6471.4956\n",
            "Epoch [3020], val_loss: 6471.2305\n",
            "Epoch [3040], val_loss: 6471.0630\n",
            "Epoch [3060], val_loss: 6470.9678\n",
            "Epoch [3080], val_loss: 6470.8447\n",
            "Epoch [3100], val_loss: 6470.8213\n",
            "Epoch [3120], val_loss: 6470.7358\n",
            "Epoch [3140], val_loss: 6470.6846\n",
            "Epoch [3160], val_loss: 6470.6045\n",
            "Epoch [3180], val_loss: 6470.5859\n",
            "Epoch [3200], val_loss: 6470.5322\n",
            "Epoch [3220], val_loss: 6470.4380\n",
            "Epoch [3240], val_loss: 6470.3545\n",
            "Epoch [3260], val_loss: 6470.2754\n",
            "Epoch [3280], val_loss: 6470.1836\n",
            "Epoch [3300], val_loss: 6470.0952\n",
            "Epoch [3320], val_loss: 6470.0098\n",
            "Epoch [3340], val_loss: 6469.8853\n",
            "Epoch [3360], val_loss: 6469.8169\n",
            "Epoch [3380], val_loss: 6469.7334\n",
            "Epoch [3400], val_loss: 6469.6553\n",
            "Epoch [3420], val_loss: 6469.5303\n",
            "Epoch [3440], val_loss: 6469.5293\n",
            "Epoch [3460], val_loss: 6469.4795\n",
            "Epoch [3480], val_loss: 6469.3926\n",
            "Epoch [3500], val_loss: 6469.3389\n",
            "Epoch [3520], val_loss: 6469.2354\n",
            "Epoch [3540], val_loss: 6469.1230\n",
            "Epoch [3560], val_loss: 6469.1016\n",
            "Epoch [3580], val_loss: 6469.0615\n",
            "Epoch [3600], val_loss: 6468.9443\n",
            "Epoch [3620], val_loss: 6468.8730\n",
            "Epoch [3640], val_loss: 6468.8633\n",
            "Epoch [3660], val_loss: 6468.7734\n",
            "Epoch [3680], val_loss: 6468.7158\n",
            "Epoch [3700], val_loss: 6468.6401\n",
            "Epoch [3720], val_loss: 6468.6357\n",
            "Epoch [3740], val_loss: 6468.5186\n",
            "Epoch [3760], val_loss: 6468.4390\n",
            "Epoch [3780], val_loss: 6468.3906\n",
            "Epoch [3800], val_loss: 6468.2871\n",
            "Epoch [3820], val_loss: 6468.2588\n",
            "Epoch [3840], val_loss: 6468.1455\n",
            "Epoch [3860], val_loss: 6468.1055\n",
            "Epoch [3880], val_loss: 6468.0229\n",
            "Epoch [3900], val_loss: 6467.9917\n",
            "Epoch [3920], val_loss: 6467.8633\n",
            "Epoch [3940], val_loss: 6467.7695\n",
            "Epoch [3960], val_loss: 6467.8081\n",
            "Epoch [3980], val_loss: 6467.7627\n",
            "Epoch [4000], val_loss: 6467.6523\n",
            "Epoch [4020], val_loss: 6467.5303\n",
            "Epoch [4040], val_loss: 6467.4858\n",
            "Epoch [4060], val_loss: 6467.4634\n",
            "Epoch [4080], val_loss: 6467.3916\n",
            "Epoch [4100], val_loss: 6467.2295\n",
            "Epoch [4120], val_loss: 6467.2524\n",
            "Epoch [4140], val_loss: 6467.1465\n",
            "Epoch [4160], val_loss: 6467.0830\n",
            "Epoch [4180], val_loss: 6467.0098\n",
            "Epoch [4200], val_loss: 6466.9600\n",
            "Epoch [4220], val_loss: 6466.9326\n",
            "Epoch [4240], val_loss: 6466.8618\n",
            "Epoch [4260], val_loss: 6466.8145\n",
            "Epoch [4280], val_loss: 6466.7178\n",
            "Epoch [4300], val_loss: 6466.5898\n",
            "Epoch [4320], val_loss: 6466.5146\n",
            "Epoch [4340], val_loss: 6466.5195\n",
            "Epoch [4360], val_loss: 6466.4653\n",
            "Epoch [4380], val_loss: 6466.3604\n",
            "Epoch [4400], val_loss: 6466.2295\n",
            "Epoch [4420], val_loss: 6466.2285\n",
            "Epoch [4440], val_loss: 6466.1006\n",
            "Epoch [4460], val_loss: 6465.9551\n",
            "Epoch [4480], val_loss: 6465.9185\n",
            "Epoch [4500], val_loss: 6465.8027\n",
            "Epoch [4520], val_loss: 6465.7734\n",
            "Epoch [4540], val_loss: 6465.7500\n",
            "Epoch [4560], val_loss: 6465.6592\n",
            "Epoch [4580], val_loss: 6465.5425\n",
            "Epoch [4600], val_loss: 6465.4277\n",
            "Epoch [4620], val_loss: 6465.4424\n",
            "Epoch [4640], val_loss: 6465.3462\n",
            "Epoch [4660], val_loss: 6465.2354\n",
            "Epoch [4680], val_loss: 6465.2246\n",
            "Epoch [4700], val_loss: 6465.1240\n",
            "Epoch [4720], val_loss: 6465.0010\n",
            "Epoch [4740], val_loss: 6464.9565\n",
            "Epoch [4760], val_loss: 6464.9214\n",
            "Epoch [4780], val_loss: 6464.8618\n",
            "Epoch [4800], val_loss: 6464.7734\n",
            "Epoch [4820], val_loss: 6464.7168\n",
            "Epoch [4840], val_loss: 6464.6719\n",
            "Epoch [4860], val_loss: 6464.5200\n",
            "Epoch [4880], val_loss: 6464.5137\n",
            "Epoch [4900], val_loss: 6464.4482\n",
            "Epoch [4920], val_loss: 6464.3418\n",
            "Epoch [4940], val_loss: 6464.3306\n",
            "Epoch [4960], val_loss: 6464.1948\n",
            "Epoch [4980], val_loss: 6464.0723\n",
            "Epoch [5000], val_loss: 6464.0537\n"
          ],
          "name": "stdout"
        }
      ]
    },
    {
      "cell_type": "markdown",
      "metadata": {
        "id": "h-C5wvLFNiLx",
        "colab_type": "text"
      },
      "source": [
        "**Q: What is the final validation loss of your model?**"
      ]
    },
    {
      "cell_type": "code",
      "metadata": {
        "id": "abiYIqUHNiLx",
        "colab_type": "code",
        "colab": {
          "base_uri": "https://localhost:8080/",
          "height": 295
        },
        "outputId": "5247d97d-fb75-4f53-f9e5-ba145ace6618"
      },
      "source": [
        "losses = [r['val_loss'] for r in [result] + history4]\n",
        "plt.plot(losses, '-x')\n",
        "plt.xlabel('epoch')\n",
        "plt.ylabel('val_loss')\n",
        "plt.title('val_loss vs. epochs');\n",
        "\n",
        "val_loss = losses[-1]"
      ],
      "execution_count": 104,
      "outputs": [
        {
          "output_type": "display_data",
          "data": {
            "image/png": "[encoded data removed]",
            "text/plain": [
              "<Figure size 432x288 with 1 Axes>"
            ]
          },
          "metadata": {
            "tags": [],
            "needs_background": "light"
          }
        }
      ]
    },
    {
      "cell_type": "markdown",
      "metadata": {
        "id": "6JTVnvh7NiL0",
        "colab_type": "text"
      },
      "source": [
        "Let's log the final validation loss to Jovian and commit the notebook"
      ]
    },
    {
      "cell_type": "code",
      "metadata": {
        "id": "6FaMd-qsNiL0",
        "colab_type": "code",
        "colab": {}
      },
      "source": [
        "jovian.log_metrics(val_loss=val_loss)"
      ],
      "execution_count": 0,
      "outputs": []
    },
    {
      "cell_type": "code",
      "metadata": {
        "id": "0TABZ-zENiL3",
        "colab_type": "code",
        "colab": {}
      },
      "source": [
        "jovian.commit(project=project_name, environment=None)"
      ],
      "execution_count": 0,
      "outputs": []
    },
    {
      "cell_type": "markdown",
      "metadata": {
        "id": "F8OUT3fwNiL5",
        "colab_type": "text"
      },
      "source": [
        "Now scroll back up, re-initialize the model, and try different set of values for batch size, number of epochs, learning rate etc. Commit each experiment and use the \"Compare\" and \"View Diff\" options on Jovian to compare the different results."
      ]
    },
    {
      "cell_type": "markdown",
      "metadata": {
        "id": "C3dqdPpiNiL5",
        "colab_type": "text"
      },
      "source": [
        "## Step 5: Make predictions using the trained model\n",
        "\n",
        "**Q: Complete the following function definition to make predictions on a single input**"
      ]
    },
    {
      "cell_type": "code",
      "metadata": {
        "id": "L8i3X_jjNiL5",
        "colab_type": "code",
        "colab": {}
      },
      "source": [
        "def predict_single(input, target, model):\n",
        "    inputs = input.unsqueeze(0)\n",
        "    predictions = model(inputs)              # fill this\n",
        "    prediction = predictions[0].detach()\n",
        "    print(\"Input:\", input)\n",
        "    print(\"Target:\", target)\n",
        "    print(\"Prediction:\", prediction)"
      ],
      "execution_count": 0,
      "outputs": []
    },
    {
      "cell_type": "code",
      "metadata": {
        "id": "O5x2XVTvNiL8",
        "colab_type": "code",
        "colab": {
          "base_uri": "https://localhost:8080/",
          "height": 67
        },
        "outputId": "e8cd06a8-f74d-4a64-aa9c-6940ab1c87ff"
      },
      "source": [
        "input, target = val_ds[0]\n",
        "predict_single(input, target, model)"
      ],
      "execution_count": 106,
      "outputs": [
        {
          "output_type": "stream",
          "text": [
            "Input: tensor([31.0000,  1.0000, 32.6183,  3.0000,  0.0000])\n",
            "Target: tensor([5479.2734])\n",
            "Prediction: tensor([5556.6792])\n"
          ],
          "name": "stdout"
        }
      ]
    },
    {
      "cell_type": "code",
      "metadata": {
        "id": "7MSgJr8KNiL9",
        "colab_type": "code",
        "colab": {
          "base_uri": "https://localhost:8080/",
          "height": 67
        },
        "outputId": "354766f9-21e8-4edb-feae-43deecd519c0"
      },
      "source": [
        "input, target = val_ds[10]\n",
        "predict_single(input, target, model)"
      ],
      "execution_count": 107,
      "outputs": [
        {
          "output_type": "stream",
          "text": [
            "Input: tensor([43.0000,  0.0000, 26.5335,  1.0000,  1.0000])\n",
            "Target: tensor([21989.0566])\n",
            "Prediction: tensor([9086.4180])\n"
          ],
          "name": "stdout"
        }
      ]
    },
    {
      "cell_type": "code",
      "metadata": {
        "id": "eHgee0eGNiL_",
        "colab_type": "code",
        "colab": {
          "base_uri": "https://localhost:8080/",
          "height": 67
        },
        "outputId": "786e3d37-aa5f-469c-a995-28c0a643791b"
      },
      "source": [
        "input, target = val_ds[23]\n",
        "predict_single(input, target, model)"
      ],
      "execution_count": 108,
      "outputs": [
        {
          "output_type": "stream",
          "text": [
            "Input: tensor([22.0000,  1.0000, 29.7255,  1.0000,  0.0000])\n",
            "Target: tensor([2665.4333])\n",
            "Prediction: tensor([3376.6082])\n"
          ],
          "name": "stdout"
        }
      ]
    },
    {
      "cell_type": "markdown",
      "metadata": {
        "id": "QClfLWU4NiMA",
        "colab_type": "text"
      },
      "source": [
        "Are you happy with your model's predictions? Try to improve them further."
      ]
    },
    {
      "cell_type": "markdown",
      "metadata": {
        "id": "-gh_hnZ4NiMB",
        "colab_type": "text"
      },
      "source": [
        "## (Optional) Step 6: Try another dataset & blog about it\n",
        "\n",
        "While this last step is optional for the submission of your assignment, we highly recommend that you do it. Try to clean up & replicate this notebook (or [this one](https://jovian.ml/aakashns/housing-linear-minimal), or [this one](https://jovian.ml/aakashns/mnist-logistic-minimal) ) for a different linear regression or logistic regression problem. This will help solidify your understanding, and give you a chance to differentiate the generic patters in machine learning from problem-specific details.\n",
        "\n",
        "Here are some sources to find good datasets:\n",
        "\n",
        "- https://lionbridge.ai/datasets/10-open-datasets-for-linear-regression/\n",
        "- https://www.kaggle.com/rtatman/datasets-for-regression-analysis\n",
        "- https://archive.ics.uci.edu/ml/datasets.php?format=&task=reg&att=&area=&numAtt=&numIns=&type=&sort=nameUp&view=table\n",
        "- https://people.sc.fsu.edu/~jburkardt/datasets/regression/regression.html\n",
        "- https://archive.ics.uci.edu/ml/datasets/wine+quality\n",
        "- https://pytorch.org/docs/stable/torchvision/datasets.html\n",
        "\n",
        "We also recommend that you write a blog about your approach to the problem. Here is a suggested structure for your post (feel free to experiment with it):\n",
        "\n",
        "- Interesting title & subtitle\n",
        "- Overview of what the blog covers (which dataset, linear regression or logistic regression, intro to PyTorch)\n",
        "- Downloading & exploring the data\n",
        "- Preparing the data for training\n",
        "- Creating a model using PyTorch\n",
        "- Training the model to fit the data\n",
        "- Your thoughts on how to experiment with different hyperparmeters to reduce loss\n",
        "- Making predictions using the model\n",
        "\n",
        "As with the previous assignment, you can [embed Juptyer notebook cells & outputs from Jovian](https://medium.com/jovianml/share-and-embed-jupyter-notebooks-online-with-jovian-ml-df709a03064e) into your blog. \n",
        "\n",
        "Don't forget to share your work on the forum: https://jovian.ml/forum/t/share-your-work-here-assignment-2/4931"
      ]
    },
    {
      "cell_type": "code",
      "metadata": {
        "id": "EBomU7aVNiMB",
        "colab_type": "code",
        "outputId": "862fe6eb-371d-46d3-9359-2e784091dfbf",
        "colab": {}
      },
      "source": [
        "jovian.commit(project=project_name, environment=None)\n",
        "jovian.commit(project=project_name, environment=None) # try again, kaggle fails sometimes"
      ],
      "execution_count": 0,
      "outputs": [
        {
          "output_type": "display_data",
          "data": {
            "application/javascript": [
              "window.require && require([\"base/js/namespace\"],function(Jupyter){Jupyter.notebook.save_checkpoint()})"
            ],
            "text/plain": [
              "<IPython.core.display.Javascript object>"
            ]
          },
          "metadata": {
            "tags": []
          }
        },
        {
          "output_type": "stream",
          "text": [
            "[jovian] Attempting to save notebook..\u001b[0m\n",
            "[jovian] Please enter your API key ( from https://jovian.ml/ ):\u001b[0m\n",
            "API KEY: ········\n",
            "[jovian] Creating a new project \"aakashns/02-insurance-linear-regression\"\u001b[0m\n",
            "[jovian] Uploading notebook..\u001b[0m\n",
            "[jovian] Committed successfully! https://jovian.ml/aakashns/02-insurance-linear-regression\u001b[0m\n"
          ],
          "name": "stdout"
        },
        {
          "output_type": "display_data",
          "data": {
            "application/javascript": [
              "window.require && require([\"base/js/namespace\"],function(Jupyter){Jupyter.notebook.save_checkpoint()})"
            ],
            "text/plain": [
              "<IPython.core.display.Javascript object>"
            ]
          },
          "metadata": {
            "tags": []
          }
        }
      ]
    },
    {
      "cell_type": "code",
      "metadata": {
        "id": "gAVFIkcANiMD",
        "colab_type": "code",
        "colab": {}
      },
      "source": [
        ""
      ],
      "execution_count": 0,
      "outputs": []
    }
  ]
}